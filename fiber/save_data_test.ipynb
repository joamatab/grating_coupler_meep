{
 "cells": [
  {
   "cell_type": "code",
   "execution_count": 1,
   "metadata": {},
   "outputs": [],
   "source": [
    "import pickle\n",
    "from datetime import datetime\n",
    "\n",
    "now = datetime.now()\n",
    "dt_string = now.strftime(\"%d%m%Y_%H:%M:%S\")\n",
    "filename = './data/' + dt_string + '.pickle'\n",
    "\n",
    "with open(filename, 'wb') as f:\n",
    "    pickle.dump( {'test':1} , f, pickle.HIGHEST_PROTOCOL)"
   ]
  },
  {
   "cell_type": "code",
   "execution_count": 5,
   "metadata": {},
   "outputs": [
    {
     "name": "stdout",
     "output_type": "stream",
     "text": [
      "Using MPI version 3.1, 1 processes\n"
     ]
    }
   ],
   "source": [
    "# Load data from rpeviously run scripts\n",
    "dbfile = open('data/04082021_16:02:32.pickle', 'rb')\n",
    "db = pickle.load(dbfile)\n",
    "dbfile.close()"
   ]
  },
  {
   "cell_type": "code",
   "execution_count": 6,
   "metadata": {},
   "outputs": [
    {
     "data": {
      "text/plain": [
       "{'params': {'a': 0.767723445279288,\n",
       "  'FF': 0.5,\n",
       "  'theta': 0.13962634015954636,\n",
       "  'x': 1,\n",
       "  'source': 8},\n",
       " 'res_fiber': EigCoeffsResult(alpha=array([[[-6.05901857+2.18840204j,  1.18216338-1.60471972j]]]), vgrp=array([0.68628301]), kpoints=[Vector3<-0.3191086807097764, -2.2705762448723132, 0.0>], kdom=[Vector3<-0.3191086807097763, -2.2705762448723132, 0.0>], cscale=array([0.50000129])),\n",
       " 'res_waveguide': EigCoeffsResult(alpha=array([[[ 0.01945449+0.04003094j, -0.09353419-0.66784817j]]]), vgrp=array([0.48764486]), kpoints=[Vector3<3.0518551799446363, 0.0, 0.0>], kdom=[Vector3<3.0518551799446363, -0.0, 0.0>], cscale=array([0.49999411]))}"
      ]
     },
     "execution_count": 6,
     "metadata": {},
     "output_type": "execute_result"
    }
   ],
   "source": [
    "db"
   ]
  },
  {
   "cell_type": "markdown",
   "metadata": {},
   "source": [
    "Get S-parameters from raw data"
   ]
  },
  {
   "cell_type": "code",
   "execution_count": 9,
   "metadata": {},
   "outputs": [],
   "source": [
    "res_fiber = db['res_fiber']\n",
    "res_waveguide = db['res_waveguide']"
   ]
  },
  {
   "cell_type": "code",
   "execution_count": 11,
   "metadata": {},
   "outputs": [
    {
     "data": {
      "text/plain": [
       "0.09572429284298267"
      ]
     },
     "execution_count": 11,
     "metadata": {},
     "output_type": "execute_result"
    }
   ],
   "source": [
    "S11 = abs(res_fiber.alpha[0,0,1])**2/abs(res_fiber.alpha[0,0,0])**2\n",
    "S11"
   ]
  },
  {
   "cell_type": "code",
   "execution_count": 13,
   "metadata": {},
   "outputs": [
    {
     "data": {
      "text/plain": [
       "0.010958095154905263"
      ]
     },
     "execution_count": 13,
     "metadata": {},
     "output_type": "execute_result"
    }
   ],
   "source": [
    "S12 = abs(res_waveguide.alpha[0,0,1])**2/abs(res_fiber.alpha[0,0,0])**2\n",
    "S12"
   ]
  },
  {
   "cell_type": "code",
   "execution_count": 14,
   "metadata": {},
   "outputs": [],
   "source": [
    "# Load data from rpeviously run scripts\n",
    "# With end condition at waveguide port (fiber source)\n",
    "dbfile = open('data/04082021_16:07:39.pickle', 'rb')\n",
    "db = pickle.load(dbfile)\n",
    "dbfile.close()"
   ]
  },
  {
   "cell_type": "code",
   "execution_count": null,
   "metadata": {},
   "outputs": [],
   "source": [
    "S11 = abs(res_fiber.alpha[0,0,1])**2/abs(res_fiber.alpha[0,0,0])**2\n",
    "S11"
   ]
  }
 ],
 "metadata": {
  "kernelspec": {
   "display_name": "Python 3",
   "language": "python",
   "name": "python3"
  },
  "language_info": {
   "codemirror_mode": {
    "name": "ipython",
    "version": 3
   },
   "file_extension": ".py",
   "mimetype": "text/x-python",
   "name": "python",
   "nbconvert_exporter": "python",
   "pygments_lexer": "ipython3",
   "version": "3.6.8"
  }
 },
 "nbformat": 4,
 "nbformat_minor": 5
}
