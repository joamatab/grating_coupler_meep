{
 "cells": [
  {
   "cell_type": "markdown",
   "id": "bcd46559-196a-41e4-90ce-96fbbdea469a",
   "metadata": {},
   "source": [
    "Changes : \n",
    "\n",
    "* From (1) S12's don't match. Unclear what the issue is. The highest transmission is when there seems to be strong higher order in the waveguide -- issue with eigenmode decomposition? \n",
    "* For simplicity, since we know S12 = S21 should hold for LTI system, we'll just source from the waveguide. Also, just look at diretionality for now and compare with fiber mode later.\n",
    "\n",
    "So in compute, remove  the look over sources and hardcode 1 = waveguide.\n",
    "In the script, remove all references to fiber, and add the near-2-far monitor. Remove eigemode measurements."
   ]
  },
  {
   "cell_type": "code",
   "execution_count": 1,
   "id": "5fa6fb82-1bf3-4159-a085-6beb5cdc8f6f",
   "metadata": {},
   "outputs": [
    {
     "name": "stdout",
     "output_type": "stream",
     "text": [
      "Using MPI version 3.1, 1 processes\n"
     ]
    }
   ],
   "source": [
    "from gc_outcoupler2 import initialize"
   ]
  },
  {
   "cell_type": "code",
   "execution_count": 2,
   "id": "1b147433-b2e2-4817-b903-b453f8a325f5",
   "metadata": {},
   "outputs": [],
   "source": [
    "import argparse\n",
    "\n",
    "parser = argparse.ArgumentParser()\n",
    "parser.add_argument('-period', type=float, default=0.767723445279288, help='grating period (default: 0.767723445279288 um)')\n",
    "parser.add_argument('-FF', type=float, default=0.5, help='Fill factor (default: 0.5 um)')\n",
    "parser.add_argument('-theta', type=float, default=8, help='fiber_angle (default: 8 degrees)')    \n",
    "parser.add_argument('-x', type=float, default=1, help='Fiber position (default: 1 um)')\n",
    "parser.add_argument('-source', type=int, default=0, help='1 for waveguide, 0 for fiber')   \n",
    "parser.add_argument('-filename', type=str, default='default', help='data name')  \n",
    "args = parser.parse_args()\n",
    "sim, neafielf, monitor = initialize(args)"
   ]
  },
  {
   "cell_type": "code",
   "execution_count": 3,
   "id": "24ca468d-00de-4467-8c35-9a61fcba30e1",
   "metadata": {},
   "outputs": [
    {
     "name": "stderr",
     "output_type": "stream",
     "text": [
      "Warning: grid volume is not an integer number of pixels; cell size will be rounded to nearest pixel.\n"
     ]
    },
    {
     "name": "stdout",
     "output_type": "stream",
     "text": [
      "-----------\n",
      "Initializing structure...\n",
      "time for choose_chunkdivision = 0.000632048 s\n",
      "Working in 2D dimensions.\n",
      "Computational cell is 28.0469 x 8.64062 x 0 with resolution 64\n",
      "     block, center = (-0.525649,1.1,0)\n",
      "          size (1e+20,0.44,0)\n",
      "          axes (1,0,0), (0,1,0), (0,0,1)\n",
      "          dielectric constant epsilon diagonal = (4.0409,4.0409,4.0409)\n",
      "     block, center = (-0.333718,1.1,0)\n",
      "          size (0.383862,0.44,0)\n",
      "          axes (1,0,0), (0,1,0), (0,0,1)\n",
      "          dielectric constant epsilon diagonal = (1,1,1)\n",
      "     block, center = (0.434005,1.1,0)\n",
      "          size (0.383862,0.44,0)\n",
      "          axes (1,0,0), (0,1,0), (0,0,1)\n",
      "          dielectric constant epsilon diagonal = (1,1,1)\n",
      "     block, center = (1.20173,1.1,0)\n",
      "          size (0.383862,0.44,0)\n",
      "          axes (1,0,0), (0,1,0), (0,0,1)\n",
      "          dielectric constant epsilon diagonal = (1,1,1)\n",
      "     block, center = (1.96945,1.1,0)\n",
      "          size (0.383862,0.44,0)\n",
      "          axes (1,0,0), (0,1,0), (0,0,1)\n",
      "          dielectric constant epsilon diagonal = (1,1,1)\n",
      "     block, center = (2.73718,1.1,0)\n",
      "          size (0.383862,0.44,0)\n",
      "          axes (1,0,0), (0,1,0), (0,0,1)\n",
      "          dielectric constant epsilon diagonal = (1,1,1)\n",
      "     block, center = (3.5049,1.1,0)\n",
      "          size (0.383862,0.44,0)\n",
      "          axes (1,0,0), (0,1,0), (0,0,1)\n",
      "          dielectric constant epsilon diagonal = (1,1,1)\n",
      "     block, center = (4.27262,1.1,0)\n",
      "          size (0.383862,0.44,0)\n",
      "          axes (1,0,0), (0,1,0), (0,0,1)\n",
      "          dielectric constant epsilon diagonal = (1,1,1)\n",
      "     block, center = (5.04035,1.1,0)\n",
      "          size (0.383862,0.44,0)\n",
      "          axes (1,0,0), (0,1,0), (0,0,1)\n",
      "          dielectric constant epsilon diagonal = (1,1,1)\n",
      "     block, center = (5.80807,1.1,0)\n",
      "          size (0.383862,0.44,0)\n",
      "          axes (1,0,0), (0,1,0), (0,0,1)\n",
      "          dielectric constant epsilon diagonal = (1,1,1)\n",
      "     ...(+ 11 objects not shown)...\n",
      "time for set_epsilon = 2.85149 s\n",
      "time for set_conductivity = 0.0726211 s\n",
      "time for set_conductivity = 0.0727639 s\n",
      "time for set_conductivity = 0.0787849 s\n",
      "-----------\n",
      "MPB solved for frequency_1(3.16567,0,0) = 1.63604 after 17 iters\n",
      "MPB solved for frequency_1(3.04004,0,0) = 1.57482 after 10 iters\n",
      "MPB solved for frequency_1(3.04,0,0) = 1.5748 after 3 iters\n"
     ]
    },
    {
     "data": {
      "image/png": "[encoded data removed]",
      "text/plain": [
       "<Figure size 600x400 with 1 Axes>"
      ]
     },
     "metadata": {
      "needs_background": "light"
     },
     "output_type": "display_data"
    }
   ],
   "source": [
    "import matplotlib.pyplot as plt\n",
    "\n",
    "f = plt.figure(dpi=100)\n",
    "sim.plot2D(ax=f.gca())\n",
    "plt.show()"
   ]
  },
  {
   "cell_type": "code",
   "execution_count": 4,
   "id": "1b3b5a1d-f517-4ab7-b217-a3d6f4349faf",
   "metadata": {},
   "outputs": [
    {
     "name": "stdout",
     "output_type": "stream",
     "text": [
      "Warning: grid volume is not an integer number of pixels; cell size will be rounded to nearest pixel.\n"
     ]
    }
   ],
   "source": [
    "!mpirun -np 8 python gc_outcoupler2.py -period 0.5 -FF 0.5 -theta 8 -x 1 -source 1 -filename 'test' > ./logs/test.log"
   ]
  },
  {
   "cell_type": "code",
   "execution_count": 7,
   "id": "fe624c10-02c6-4b50-8fdb-e2ab72bc80d0",
   "metadata": {},
   "outputs": [],
   "source": [
    "from os import listdir\n",
    "from os.path import isfile, join\n",
    "onlyfiles = [f for f in listdir('./data') if isfile(join('./data', f))]"
   ]
  },
  {
   "cell_type": "code",
   "execution_count": 8,
   "id": "7611fd76-d054-4b0b-a92c-8507718c1aec",
   "metadata": {},
   "outputs": [
    {
     "data": {
      "text/plain": [
       "'test.pickle'"
      ]
     },
     "execution_count": 8,
     "metadata": {},
     "output_type": "execute_result"
    }
   ],
   "source": [
    "onlyfiles[0]"
   ]
  },
  {
   "cell_type": "code",
   "execution_count": 9,
   "id": "427a10ed-2529-4907-a516-a55ec678004f",
   "metadata": {},
   "outputs": [],
   "source": [
    "import pickle\n",
    "\n",
    "dbfile = open('./data/' + onlyfiles[0], 'rb')\n",
    "db = pickle.load(dbfile)\n",
    "dbfile.close()"
   ]
  },
  {
   "cell_type": "code",
   "execution_count": 10,
   "id": "d3a49ab8-53fa-43c0-82cd-eb0a29e69d23",
   "metadata": {},
   "outputs": [
    {
     "data": {
      "text/plain": [
       "{'params': {'a': 0.5, 'FF': 0.5, 'theta': 8.0, 'x': 1.0, 'source': 1},\n",
       " 'farfield_angles': array([0.        , 0.00314159, 0.00628319, 0.00942478, 0.01256637,\n",
       "        0.01570796, 0.01884956, 0.02199115, 0.02513274, 0.02827433,\n",
       "        0.03141593, 0.03455752, 0.03769911, 0.0408407 , 0.0439823 ,\n",
       "        0.04712389, 0.05026548, 0.05340708, 0.05654867, 0.05969026,\n",
       "        0.06283185, 0.06597345, 0.06911504, 0.07225663, 0.07539822,\n",
       "        0.07853982, 0.08168141, 0.084823  , 0.08796459, 0.09110619,\n",
       "        0.09424778, 0.09738937, 0.10053096, 0.10367256, 0.10681415,\n",
       "        0.10995574, 0.11309734, 0.11623893, 0.11938052, 0.12252211,\n",
       "        0.12566371, 0.1288053 , 0.13194689, 0.13508848, 0.13823008,\n",
       "        0.14137167, 0.14451326, 0.14765485, 0.15079645, 0.15393804,\n",
       "        0.15707963, 0.16022123, 0.16336282, 0.16650441, 0.169646  ,\n",
       "        0.1727876 , 0.17592919, 0.17907078, 0.18221237, 0.18535397,\n",
       "        0.18849556, 0.19163715, 0.19477874, 0.19792034, 0.20106193,\n",
       "        0.20420352, 0.20734512, 0.21048671, 0.2136283 , 0.21676989,\n",
       "        0.21991149, 0.22305308, 0.22619467, 0.22933626, 0.23247786,\n",
       "        0.23561945, 0.23876104, 0.24190263, 0.24504423, 0.24818582,\n",
       "        0.25132741, 0.254469  , 0.2576106 , 0.26075219, 0.26389378,\n",
       "        0.26703538, 0.27017697, 0.27331856, 0.27646015, 0.27960175,\n",
       "        0.28274334, 0.28588493, 0.28902652, 0.29216812, 0.29530971,\n",
       "        0.2984513 , 0.30159289, 0.30473449, 0.30787608, 0.31101767,\n",
       "        0.31415927, 0.31730086, 0.32044245, 0.32358404, 0.32672564,\n",
       "        0.32986723, 0.33300882, 0.33615041, 0.33929201, 0.3424336 ,\n",
       "        0.34557519, 0.34871678, 0.35185838, 0.35499997, 0.35814156,\n",
       "        0.36128316, 0.36442475, 0.36756634, 0.37070793, 0.37384953,\n",
       "        0.37699112, 0.38013271, 0.3832743 , 0.3864159 , 0.38955749,\n",
       "        0.39269908, 0.39584067, 0.39898227, 0.40212386, 0.40526545,\n",
       "        0.40840704, 0.41154864, 0.41469023, 0.41783182, 0.42097342,\n",
       "        0.42411501, 0.4272566 , 0.43039819, 0.43353979, 0.43668138,\n",
       "        0.43982297, 0.44296456, 0.44610616, 0.44924775, 0.45238934,\n",
       "        0.45553093, 0.45867253, 0.46181412, 0.46495571, 0.46809731,\n",
       "        0.4712389 , 0.47438049, 0.47752208, 0.48066368, 0.48380527,\n",
       "        0.48694686, 0.49008845, 0.49323005, 0.49637164, 0.49951323,\n",
       "        0.50265482, 0.50579642, 0.50893801, 0.5120796 , 0.5152212 ,\n",
       "        0.51836279, 0.52150438, 0.52464597, 0.52778757, 0.53092916,\n",
       "        0.53407075, 0.53721234, 0.54035394, 0.54349553, 0.54663712,\n",
       "        0.54977871, 0.55292031, 0.5560619 , 0.55920349, 0.56234508,\n",
       "        0.56548668, 0.56862827, 0.57176986, 0.57491146, 0.57805305,\n",
       "        0.58119464, 0.58433623, 0.58747783, 0.59061942, 0.59376101,\n",
       "        0.5969026 , 0.6000442 , 0.60318579, 0.60632738, 0.60946897,\n",
       "        0.61261057, 0.61575216, 0.61889375, 0.62203535, 0.62517694,\n",
       "        0.62831853, 0.63146012, 0.63460172, 0.63774331, 0.6408849 ,\n",
       "        0.64402649, 0.64716809, 0.65030968, 0.65345127, 0.65659286,\n",
       "        0.65973446, 0.66287605, 0.66601764, 0.66915924, 0.67230083,\n",
       "        0.67544242, 0.67858401, 0.68172561, 0.6848672 , 0.68800879,\n",
       "        0.69115038, 0.69429198, 0.69743357, 0.70057516, 0.70371675,\n",
       "        0.70685835, 0.70999994, 0.71314153, 0.71628313, 0.71942472,\n",
       "        0.72256631, 0.7257079 , 0.7288495 , 0.73199109, 0.73513268,\n",
       "        0.73827427, 0.74141587, 0.74455746, 0.74769905, 0.75084064,\n",
       "        0.75398224, 0.75712383, 0.76026542, 0.76340701, 0.76654861,\n",
       "        0.7696902 , 0.77283179, 0.77597339, 0.77911498, 0.78225657,\n",
       "        0.78539816, 0.78853976, 0.79168135, 0.79482294, 0.79796453,\n",
       "        0.80110613, 0.80424772, 0.80738931, 0.8105309 , 0.8136725 ,\n",
       "        0.81681409, 0.81995568, 0.82309728, 0.82623887, 0.82938046,\n",
       "        0.83252205, 0.83566365, 0.83880524, 0.84194683, 0.84508842,\n",
       "        0.84823002, 0.85137161, 0.8545132 , 0.85765479, 0.86079639,\n",
       "        0.86393798, 0.86707957, 0.87022117, 0.87336276, 0.87650435,\n",
       "        0.87964594, 0.88278754, 0.88592913, 0.88907072, 0.89221231,\n",
       "        0.89535391, 0.8984955 , 0.90163709, 0.90477868, 0.90792028,\n",
       "        0.91106187, 0.91420346, 0.91734505, 0.92048665, 0.92362824,\n",
       "        0.92676983, 0.92991143, 0.93305302, 0.93619461, 0.9393362 ,\n",
       "        0.9424778 , 0.94561939, 0.94876098, 0.95190257, 0.95504417,\n",
       "        0.95818576, 0.96132735, 0.96446894, 0.96761054, 0.97075213,\n",
       "        0.97389372, 0.97703532, 0.98017691, 0.9833185 , 0.98646009,\n",
       "        0.98960169, 0.99274328, 0.99588487, 0.99902646, 1.00216806,\n",
       "        1.00530965, 1.00845124, 1.01159283, 1.01473443, 1.01787602,\n",
       "        1.02101761, 1.02415921, 1.0273008 , 1.03044239, 1.03358398,\n",
       "        1.03672558, 1.03986717, 1.04300876, 1.04615035, 1.04929195,\n",
       "        1.05243354, 1.05557513, 1.05871672, 1.06185832, 1.06499991,\n",
       "        1.0681415 , 1.07128309, 1.07442469, 1.07756628, 1.08070787,\n",
       "        1.08384947, 1.08699106, 1.09013265, 1.09327424, 1.09641584,\n",
       "        1.09955743, 1.10269902, 1.10584061, 1.10898221, 1.1121238 ,\n",
       "        1.11526539, 1.11840698, 1.12154858, 1.12469017, 1.12783176,\n",
       "        1.13097336, 1.13411495, 1.13725654, 1.14039813, 1.14353973,\n",
       "        1.14668132, 1.14982291, 1.1529645 , 1.1561061 , 1.15924769,\n",
       "        1.16238928, 1.16553087, 1.16867247, 1.17181406, 1.17495565,\n",
       "        1.17809725, 1.18123884, 1.18438043, 1.18752202, 1.19066362,\n",
       "        1.19380521, 1.1969468 , 1.20008839, 1.20322999, 1.20637158,\n",
       "        1.20951317, 1.21265476, 1.21579636, 1.21893795, 1.22207954,\n",
       "        1.22522113, 1.22836273, 1.23150432, 1.23464591, 1.23778751,\n",
       "        1.2409291 , 1.24407069, 1.24721228, 1.25035388, 1.25349547,\n",
       "        1.25663706, 1.25977865, 1.26292025, 1.26606184, 1.26920343,\n",
       "        1.27234502, 1.27548662, 1.27862821, 1.2817698 , 1.2849114 ,\n",
       "        1.28805299, 1.29119458, 1.29433617, 1.29747777, 1.30061936,\n",
       "        1.30376095, 1.30690254, 1.31004414, 1.31318573, 1.31632732,\n",
       "        1.31946891, 1.32261051, 1.3257521 , 1.32889369, 1.33203529,\n",
       "        1.33517688, 1.33831847, 1.34146006, 1.34460166, 1.34774325,\n",
       "        1.35088484, 1.35402643, 1.35716803, 1.36030962, 1.36345121,\n",
       "        1.3665928 , 1.3697344 , 1.37287599, 1.37601758, 1.37915917,\n",
       "        1.38230077, 1.38544236, 1.38858395, 1.39172555, 1.39486714,\n",
       "        1.39800873, 1.40115032, 1.40429192, 1.40743351, 1.4105751 ,\n",
       "        1.41371669, 1.41685829, 1.41999988, 1.42314147, 1.42628306,\n",
       "        1.42942466, 1.43256625, 1.43570784, 1.43884944, 1.44199103,\n",
       "        1.44513262, 1.44827421, 1.45141581, 1.4545574 , 1.45769899,\n",
       "        1.46084058, 1.46398218, 1.46712377, 1.47026536, 1.47340695,\n",
       "        1.47654855, 1.47969014, 1.48283173, 1.48597333, 1.48911492,\n",
       "        1.49225651, 1.4953981 , 1.4985397 , 1.50168129, 1.50482288,\n",
       "        1.50796447, 1.51110607, 1.51424766, 1.51738925, 1.52053084,\n",
       "        1.52367244, 1.52681403, 1.52995562, 1.53309721, 1.53623881,\n",
       "        1.5393804 , 1.54252199, 1.54566359, 1.54880518, 1.55194677,\n",
       "        1.55508836, 1.55822996, 1.56137155, 1.56451314, 1.56765473,\n",
       "        1.57079633, 1.57393792, 1.57707951, 1.5802211 , 1.5833627 ,\n",
       "        1.58650429, 1.58964588, 1.59278748, 1.59592907, 1.59907066,\n",
       "        1.60221225, 1.60535385, 1.60849544, 1.61163703, 1.61477862,\n",
       "        1.61792022, 1.62106181, 1.6242034 , 1.62734499, 1.63048659,\n",
       "        1.63362818, 1.63676977, 1.63991137, 1.64305296, 1.64619455,\n",
       "        1.64933614, 1.65247774, 1.65561933, 1.65876092, 1.66190251,\n",
       "        1.66504411, 1.6681857 , 1.67132729, 1.67446888, 1.67761048,\n",
       "        1.68075207, 1.68389366, 1.68703525, 1.69017685, 1.69331844,\n",
       "        1.69646003, 1.69960163, 1.70274322, 1.70588481, 1.7090264 ,\n",
       "        1.712168  , 1.71530959, 1.71845118, 1.72159277, 1.72473437,\n",
       "        1.72787596, 1.73101755, 1.73415914, 1.73730074, 1.74044233,\n",
       "        1.74358392, 1.74672552, 1.74986711, 1.7530087 , 1.75615029,\n",
       "        1.75929189, 1.76243348, 1.76557507, 1.76871666, 1.77185826,\n",
       "        1.77499985, 1.77814144, 1.78128303, 1.78442463, 1.78756622,\n",
       "        1.79070781, 1.79384941, 1.796991  , 1.80013259, 1.80327418,\n",
       "        1.80641578, 1.80955737, 1.81269896, 1.81584055, 1.81898215,\n",
       "        1.82212374, 1.82526533, 1.82840692, 1.83154852, 1.83469011,\n",
       "        1.8378317 , 1.8409733 , 1.84411489, 1.84725648, 1.85039807,\n",
       "        1.85353967, 1.85668126, 1.85982285, 1.86296444, 1.86610604,\n",
       "        1.86924763, 1.87238922, 1.87553081, 1.87867241, 1.881814  ,\n",
       "        1.88495559, 1.88809718, 1.89123878, 1.89438037, 1.89752196,\n",
       "        1.90066356, 1.90380515, 1.90694674, 1.91008833, 1.91322993,\n",
       "        1.91637152, 1.91951311, 1.9226547 , 1.9257963 , 1.92893789,\n",
       "        1.93207948, 1.93522107, 1.93836267, 1.94150426, 1.94464585,\n",
       "        1.94778745, 1.95092904, 1.95407063, 1.95721222, 1.96035382,\n",
       "        1.96349541, 1.966637  , 1.96977859, 1.97292019, 1.97606178,\n",
       "        1.97920337, 1.98234496, 1.98548656, 1.98862815, 1.99176974,\n",
       "        1.99491134, 1.99805293, 2.00119452, 2.00433611, 2.00747771,\n",
       "        2.0106193 , 2.01376089, 2.01690248, 2.02004408, 2.02318567,\n",
       "        2.02632726, 2.02946885, 2.03261045, 2.03575204, 2.03889363,\n",
       "        2.04203522, 2.04517682, 2.04831841, 2.05146   , 2.0546016 ,\n",
       "        2.05774319, 2.06088478, 2.06402637, 2.06716797, 2.07030956,\n",
       "        2.07345115, 2.07659274, 2.07973434, 2.08287593, 2.08601752,\n",
       "        2.08915911, 2.09230071, 2.0954423 , 2.09858389, 2.10172549,\n",
       "        2.10486708, 2.10800867, 2.11115026, 2.11429186, 2.11743345,\n",
       "        2.12057504, 2.12371663, 2.12685823, 2.12999982, 2.13314141,\n",
       "        2.136283  , 2.1394246 , 2.14256619, 2.14570778, 2.14884938,\n",
       "        2.15199097, 2.15513256, 2.15827415, 2.16141575, 2.16455734,\n",
       "        2.16769893, 2.17084052, 2.17398212, 2.17712371, 2.1802653 ,\n",
       "        2.18340689, 2.18654849, 2.18969008, 2.19283167, 2.19597326,\n",
       "        2.19911486, 2.20225645, 2.20539804, 2.20853964, 2.21168123,\n",
       "        2.21482282, 2.21796441, 2.22110601, 2.2242476 , 2.22738919,\n",
       "        2.23053078, 2.23367238, 2.23681397, 2.23995556, 2.24309715,\n",
       "        2.24623875, 2.24938034, 2.25252193, 2.25566353, 2.25880512,\n",
       "        2.26194671, 2.2650883 , 2.2682299 , 2.27137149, 2.27451308,\n",
       "        2.27765467, 2.28079627, 2.28393786, 2.28707945, 2.29022104,\n",
       "        2.29336264, 2.29650423, 2.29964582, 2.30278742, 2.30592901,\n",
       "        2.3090706 , 2.31221219, 2.31535379, 2.31849538, 2.32163697,\n",
       "        2.32477856, 2.32792016, 2.33106175, 2.33420334, 2.33734493,\n",
       "        2.34048653, 2.34362812, 2.34676971, 2.3499113 , 2.3530529 ,\n",
       "        2.35619449, 2.35933608, 2.36247768, 2.36561927, 2.36876086,\n",
       "        2.37190245, 2.37504405, 2.37818564, 2.38132723, 2.38446882,\n",
       "        2.38761042, 2.39075201, 2.3938936 , 2.39703519, 2.40017679,\n",
       "        2.40331838, 2.40645997, 2.40960157, 2.41274316, 2.41588475,\n",
       "        2.41902634, 2.42216794, 2.42530953, 2.42845112, 2.43159271,\n",
       "        2.43473431, 2.4378759 , 2.44101749, 2.44415908, 2.44730068,\n",
       "        2.45044227, 2.45358386, 2.45672546, 2.45986705, 2.46300864,\n",
       "        2.46615023, 2.46929183, 2.47243342, 2.47557501, 2.4787166 ,\n",
       "        2.4818582 , 2.48499979, 2.48814138, 2.49128297, 2.49442457,\n",
       "        2.49756616, 2.50070775, 2.50384934, 2.50699094, 2.51013253,\n",
       "        2.51327412, 2.51641572, 2.51955731, 2.5226989 , 2.52584049,\n",
       "        2.52898209, 2.53212368, 2.53526527, 2.53840686, 2.54154846,\n",
       "        2.54469005, 2.54783164, 2.55097323, 2.55411483, 2.55725642,\n",
       "        2.56039801, 2.56353961, 2.5666812 , 2.56982279, 2.57296438,\n",
       "        2.57610598, 2.57924757, 2.58238916, 2.58553075, 2.58867235,\n",
       "        2.59181394, 2.59495553, 2.59809712, 2.60123872, 2.60438031,\n",
       "        2.6075219 , 2.6106635 , 2.61380509, 2.61694668, 2.62008827,\n",
       "        2.62322987, 2.62637146, 2.62951305, 2.63265464, 2.63579624,\n",
       "        2.63893783, 2.64207942, 2.64522101, 2.64836261, 2.6515042 ,\n",
       "        2.65464579, 2.65778738, 2.66092898, 2.66407057, 2.66721216,\n",
       "        2.67035376, 2.67349535, 2.67663694, 2.67977853, 2.68292013,\n",
       "        2.68606172, 2.68920331, 2.6923449 , 2.6954865 , 2.69862809,\n",
       "        2.70176968, 2.70491127, 2.70805287, 2.71119446, 2.71433605,\n",
       "        2.71747765, 2.72061924, 2.72376083, 2.72690242, 2.73004402,\n",
       "        2.73318561, 2.7363272 , 2.73946879, 2.74261039, 2.74575198,\n",
       "        2.74889357, 2.75203516, 2.75517676, 2.75831835, 2.76145994,\n",
       "        2.76460154, 2.76774313, 2.77088472, 2.77402631, 2.77716791,\n",
       "        2.7803095 , 2.78345109, 2.78659268, 2.78973428, 2.79287587,\n",
       "        2.79601746, 2.79915905, 2.80230065, 2.80544224, 2.80858383,\n",
       "        2.81172542, 2.81486702, 2.81800861, 2.8211502 , 2.8242918 ,\n",
       "        2.82743339, 2.83057498, 2.83371657, 2.83685817, 2.83999976,\n",
       "        2.84314135, 2.84628294, 2.84942454, 2.85256613, 2.85570772,\n",
       "        2.85884931, 2.86199091, 2.8651325 , 2.86827409, 2.87141569,\n",
       "        2.87455728, 2.87769887, 2.88084046, 2.88398206, 2.88712365,\n",
       "        2.89026524, 2.89340683, 2.89654843, 2.89969002, 2.90283161,\n",
       "        2.9059732 , 2.9091148 , 2.91225639, 2.91539798, 2.91853958,\n",
       "        2.92168117, 2.92482276, 2.92796435, 2.93110595, 2.93424754,\n",
       "        2.93738913, 2.94053072, 2.94367232, 2.94681391, 2.9499555 ,\n",
       "        2.95309709, 2.95623869, 2.95938028, 2.96252187, 2.96566346,\n",
       "        2.96880506, 2.97194665, 2.97508824, 2.97822984, 2.98137143,\n",
       "        2.98451302, 2.98765461, 2.99079621, 2.9939378 , 2.99707939,\n",
       "        3.00022098, 3.00336258, 3.00650417, 3.00964576, 3.01278735,\n",
       "        3.01592895, 3.01907054, 3.02221213, 3.02535373, 3.02849532,\n",
       "        3.03163691, 3.0347785 , 3.0379201 , 3.04106169, 3.04420328,\n",
       "        3.04734487, 3.05048647, 3.05362806, 3.05676965, 3.05991124,\n",
       "        3.06305284, 3.06619443, 3.06933602, 3.07247762, 3.07561921,\n",
       "        3.0787608 , 3.08190239, 3.08504399, 3.08818558, 3.09132717,\n",
       "        3.09446876, 3.09761036, 3.10075195, 3.10389354, 3.10703513,\n",
       "        3.11017673, 3.11331832, 3.11645991, 3.11960151, 3.1227431 ,\n",
       "        3.12588469, 3.12902628, 3.13216788, 3.13530947, 3.13845106]),\n",
       " 'farfield_power': array([[ 0.00000000e+00+0.00000000e+00j,  0.00000000e+00+0.00000000e+00j,\n",
       "          1.53494957e-03-2.03033771e-03j, -1.00307760e-05+9.89130500e-06j,\n",
       "         -1.53508236e-03+2.03019087e-03j,  0.00000000e+00+0.00000000e+00j],\n",
       "        [ 0.00000000e+00+0.00000000e+00j,  0.00000000e+00+0.00000000e+00j,\n",
       "          1.32884240e-03-2.21834007e-03j, -4.82413704e-06+4.00466639e-06j,\n",
       "         -1.32901466e-03+2.21823034e-03j,  0.00000000e+00+0.00000000e+00j],\n",
       "        [ 0.00000000e+00+0.00000000e+00j,  0.00000000e+00+0.00000000e+00j,\n",
       "          1.10249196e-03-2.38492889e-03j, -9.35010328e-07-3.04356995e-06j,\n",
       "         -1.10268642e-03+2.38483912e-03j,  0.00000000e+00+0.00000000e+00j],\n",
       "        ...,\n",
       "        [ 0.00000000e+00+0.00000000e+00j,  0.00000000e+00+0.00000000e+00j,\n",
       "         -1.61093060e-03+2.76459904e-03j, -3.90264643e-06+1.29262027e-05j,\n",
       "         -1.61115279e-03+2.76444148e-03j,  0.00000000e+00+0.00000000e+00j],\n",
       "        [ 0.00000000e+00+0.00000000e+00j,  0.00000000e+00+0.00000000e+00j,\n",
       "         -1.85701071e-03+2.53051459e-03j,  7.44307324e-07+4.11172135e-06j,\n",
       "         -1.85721812e-03+2.53036398e-03j,  0.00000000e+00+0.00000000e+00j],\n",
       "        [ 0.00000000e+00+0.00000000e+00j,  0.00000000e+00+0.00000000e+00j,\n",
       "         -2.07559577e-03+2.27544743e-03j,  6.88507247e-06-3.19646645e-06j,\n",
       "         -2.07577101e-03+2.27528023e-03j,  0.00000000e+00+0.00000000e+00j]]),\n",
       " 'res_waveguide': EigCoeffsResult(alpha=array([[[-5.09328171-3.93145918j, -0.37117775-2.78565618j]]]), vgrp=array([0.48706866]), kpoints=[Vector3<3.039665223852486, 0.0, 0.0>], kdom=[Vector3<3.039665223852486, -0.0, 0.0>], cscale=array([0.50007429]))}"
      ]
     },
     "execution_count": 10,
     "metadata": {},
     "output_type": "execute_result"
    }
   ],
   "source": [
    "db"
   ]
  },
  {
   "cell_type": "code",
   "execution_count": 11,
   "id": "9b3779c2-04d4-4a85-a13c-5b0ed64d30ea",
   "metadata": {},
   "outputs": [],
   "source": [
    "import numpy as np\n",
    "\n",
    "farfield_power = db['farfield_power']\n",
    "farfield_angles = db['farfield_angles']\n",
    "\n",
    "Ex=farfield_power[:,0]\n",
    "Ey=farfield_power[:,1]\n",
    "Ez=farfield_power[:,2]\n",
    "Hx=farfield_power[:,3]\n",
    "Hy=farfield_power[:,4]\n",
    "Hz=farfield_power[:,5]\n",
    "Ex=np.conj(Ex)\n",
    "Ey=np.conj(Ey)\n",
    "Ez=np.conj(Ez)\n",
    "Px=np.real(np.multiply(Ey,Hz)-np.multiply(Ez,Hy))\n",
    "Py=np.real(np.multiply(Ez,Hx)-np.multiply(Ex,Hz))\n",
    "Pz=np.real(np.multiply(Ex,Hy)-np.multiply(Ey,Hx))\n",
    "Pr=np.sqrt(np.square(Px)+np.square(Py))\n",
    "Pnorm = Pr/np.max(Pr)"
   ]
  },
  {
   "cell_type": "code",
   "execution_count": 12,
   "id": "faa50eac-1bfa-465e-80d0-9e02730f6c1f",
   "metadata": {},
   "outputs": [
    {
     "data": {
      "image/png": "[encoded data removed]",
      "text/plain": [
       "<Figure size 432x288 with 1 Axes>"
      ]
     },
     "metadata": {
      "needs_background": "light"
     },
     "output_type": "display_data"
    }
   ],
   "source": [
    "fig, ax = plt.subplots(subplot_kw={'projection': 'polar'})\n",
    "ax.plot(farfield_angles, Pnorm)\n",
    "ax.set_rmax(1)\n",
    "ax.set_rticks([0.25, 0.5, 0.75, 1])  # Less radial ticks\n",
    "ax.set_rlabel_position(-22.5)  # Move radial labels away from plotted line\n",
    "ax.grid(True)\n",
    "\n",
    "# ax.set_title(\"A line plot on a polar axis\", va='bottom')\n",
    "plt.show()"
   ]
  },
  {
   "cell_type": "code",
   "execution_count": 24,
   "id": "be742450-0e55-42d5-9643-6d2079f5a947",
   "metadata": {},
   "outputs": [
    {
     "data": {
      "text/plain": [
       "0.015625"
      ]
     },
     "execution_count": 24,
     "metadata": {},
     "output_type": "execute_result"
    }
   ],
   "source": [
    "1/64"
   ]
  },
  {
   "cell_type": "code",
   "execution_count": 6,
   "id": "da903763-e294-4eef-9909-bd07bc454d76",
   "metadata": {},
   "outputs": [
    {
     "data": {
      "text/plain": [
       "array([0.1, 0.2, 0.3, 0.4, 0.5, 0.6, 0.7, 0.8, 0.9])"
      ]
     },
     "execution_count": 6,
     "metadata": {},
     "output_type": "execute_result"
    }
   ],
   "source": [
    "import numpy as np\n",
    "np.linspace(0.1, 0.9, 9)"
   ]
  },
  {
   "cell_type": "markdown",
   "id": "57cd6910-c9f1-4772-b65f-90c3d5f5799e",
   "metadata": {},
   "source": [
    "Maybe we should monitor the outgoing power too. Let's add a mode monitor again. (reload). Also gives reflection."
   ]
  }
 ],
 "metadata": {
  "kernelspec": {
   "display_name": "Python 3",
   "language": "python",
   "name": "python3"
  },
  "language_info": {
   "codemirror_mode": {
    "name": "ipython",
    "version": 3
   },
   "file_extension": ".py",
   "mimetype": "text/x-python",
   "name": "python",
   "nbconvert_exporter": "python",
   "pygments_lexer": "ipython3",
   "version": "3.9.6"
  }
 },
 "nbformat": 4,
 "nbformat_minor": 5
}
